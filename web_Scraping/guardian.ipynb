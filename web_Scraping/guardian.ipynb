{
 "cells": [
  {
   "cell_type": "markdown",
   "metadata": {},
   "source": [
    "## Guardian web scraping sport"
   ]
  },
  {
   "cell_type": "code",
   "execution_count": 15,
   "metadata": {},
   "outputs": [],
   "source": [
    "import requests\n",
    "from bs4 import BeautifulSoup\n",
    "import pandas as pd\n",
    "page='science'\n",
    "r = requests.get('https://www.theguardian.com/uk/'+page)\n",
    "f=open('gaurdian'+page+'.html','w',encoding=\"utf-8\")\n",
    "f.write(r.text)\n",
    "f.close()"
   ]
  },
  {
   "cell_type": "code",
   "execution_count": 20,
   "metadata": {},
   "outputs": [
    {
     "name": "stdout",
     "output_type": "stream",
     "text": [
      "<h3 class=\"fc-item__title\"><a class=\"fc-item__link\" data-link-name=\"article\" href=\"https://www.theguardian.com/business/2020/feb/24/stock-markets-coronavirus-italy-airlines\"><span class=\"fc-item__kicker\">Stock markets</span> <span class=\"u-faux-block-link__cta fc-item__headline\"> <span class=\"js-headline-text\">FTSE 100 sheds £62bn as coronavirus fears hit global markets</span></span> </a></h3>\n"
     ]
    }
   ],
   "source": [
    "file=open('gaurdian'+page+'.html','r',encoding=\"utf-8\")#gaurdianSport\n",
    "readFile=file.read()\n",
    "html_soup = BeautifulSoup(readFile, 'html.parser')\n",
    "#print(html_soup)\n",
    "mainClasses=html_soup.find_all('h3',class_=\"fc-item__title\")#--quoted\")\n",
    "print(mainClasses[0])"
   ]
  },
  {
   "cell_type": "code",
   "execution_count": 21,
   "metadata": {},
   "outputs": [
    {
     "name": "stdout",
     "output_type": "stream",
     "text": [
      "https://www.theguardian.com/business/2020/feb/24/stock-markets-coronavirus-italy-airlines FTSE 100 sheds £62bn as coronavirus fears hit global markets\n",
      "https://www.theguardian.com/politics/2020/feb/24/new-chancellor-will-not-want-to-be-creature-of-no-10-david-gauke-rishi-sunak New chancellor will not want to be 'creature of No 10' – David Gauke\n"
     ]
    }
   ],
   "source": [
    "for i in range(0,2):\n",
    "    heading=mainClasses[i].find('span',class_=\"js-headline-text\")\n",
    "    linktoarticle=mainClasses[i].find('a',href=True)['href']\n",
    "    print(linktoarticle,heading.text)\n",
    "    r = requests.get(linktoarticle)\n",
    "    f=open('gaurdian'+page+''+str(i)+'.html','w',encoding=\"utf-8\")#gaurdianSportart\n",
    "    f.write(r.text)\n",
    "    f.close()"
   ]
  },
  {
   "cell_type": "code",
   "execution_count": 22,
   "metadata": {},
   "outputs": [
    {
     "name": "stdout",
     "output_type": "stream",
     "text": [
      "['Financial markets around the globe slumped on Monday as news of the Italian coronavirus outbreak wiped £62bn off the value of the FTSE 100 and shares on Wall Street tumbled.Shares came under heavy selling pressure in key markets as analysts warned that the threat of tougher quarantine measures outside China to prevent the spread of the disease would hit company profits by hitting supply chains and consumer demand. Investors rushed to buy “safe haven” investments such as gold to protect against steep losses on the stock markets, sending the price of the precious metal to a seven-year high of $1,683 (£1,303) an ounce.The Dow Jones Industrial Average fell by over 1,000 points, or about 3%, in morning trading in New York as investors in the world’s largest economy priced in the possibility of a deeper global economic shock.In a note to investors Goldman Sachs cut its US growth forecast from 1.4% to just 1.2% for the first quarter. “An increasing amount of companies [are] suggesting potential production cuts should supply chain disruptions persist into Q2 or later,” wrote Jan Hatzius, Goldman’s chief US economistThe FTSE 100 index in London lost 247 points to 7,156.83, a 3.3% drop and its worst worst percentage fall since January 2016. Among the worst-hit stocks on the list of the UK’s biggest public companies was the budget airline easyJet, which lost £1bn in value as the stock fell by more than 16%. The tour operator Tui fell by almost 10%, and the British Airways owner, IAG, dropped by 9%, on the back of expectations that the outbreak would lead to fewer people jetting away on holiday or for business.Shares in Carnival, the cruise ship operator that has faced an outbreak of the virus on its Diamond Princess vessel, shed 6.8%.Seema Shah, chief strategist at investment manager Principal Global Investors, said: “The spread of the virus outside China would mean even more pressure on European supply chains and consumer demand and may result in a wave of profit warnings if the spread accelerates.”The dramatic plunge in the financial markets comes as Italy emerged at the centre of the coronavirus crisis in Europe, reporting its sixth death on Monday. The number of cases in the country rose to more than 200, the highest number outside Asia. The eurozone’s third largest economy is already shrinking and the rapid spread of the virus has sparked fears of a recession at a delicate moment. Italian authorities have responded by locking down 12 cities in the north of the country and the Venice carnival has been cut short by two days.The Italian stock market tumbled by almost 1,500 points to 23,288.35, a 6% slide, putting it on track for its worst day since 2016. Elsewhere in Europe, Germany’s Dax index fell 3.5% while France’s Cac 40 lost 3.7%.In Asia, Hong Kong’s Hang Seng index fell 1.8%, while South Korea’s Kospi slumped 3.9%. The number of coronavirus cases rose to 763. Japan’s stock market was closed for a scheduled holiday.Chris Beauchamp, chief market analyst at online trading firm IG, said: “It has been a while since the term ‘sea of red’ was last deployed to describe the market action, but it seems appropriate this morning.“The idea that the coronavirus has been fully contained has been firmly banished, and investors are now on notice to expect more cases and, sadly, more deaths. This means the economic forecasts of the impact, such as they are, will need to be revised, with a greater impact now to be expected.”Stock markets had fallen sharply at the end of January as news of the coronavirus outbreak first emerged, prompting fears over the global economy because of slowing growth on the back of the US-China trade war. Steps by the People’s Bank of China to inject billions into the world’s second largest economy then led to a rally. However, fresh concerns over the rising impact from the virus have returned to dent optimism.Oil prices have fallen as global demand is likely to decline because of the virus outbreak and China is the world’s biggest importer of oil. Brent crude tumbled by $2.66 a barrel to $55.69, a 4.6% fall.Warren Patterson, head of commodity strategy at ING, said: “We believe the virus’s effect on oil demand will shave some 400,000 barrels a day from global consumption growth, taking us to the lowest level in nearly a decade.”As the virus spreads, the Beijing motor show in late April has been postponed. The owner of Primark, Associated British Foods, warned on Monday that there could be shortages of some clothing lines later this year if factory shutdowns in China are prolonged. ABF sources more than 40% of Primark’s products from China.', 'A former Conservative cabinet minister has said the chancellor, Rishi Sunak, will want to avoid becoming a “creature of No 10” amid pressure on the new appointee to raise government borrowing sharply.David Gauke, the former justice secretary who was expelled from the Conservatives for defying Boris Johnson over Brexit, said that Sunak risked putting the public finances on an unsustainable path, given the headwinds facing the British economy.Acknowledging that spending needed to rise to end a decade of austerity that he helped to instigate as a Treasury minister between 2010 to 2017, Gauke said: “You have got a new chancellor who will want to establish that he is not a creature of No 10; who is independent.”However, he said that Sunak might raise borrowing at the budget on 11 March. “He, I would imagine, would want to assert that independence. If not necessarily on 11 March, sooner rather than later.”Gauke’s comments at an event hosted by the Resolution Foundation thinktank in London come as Sunak prepares to reveal what is widely expected to be one of the most expansionary Tory budgets in a generation.The 39-year-old replaced Sajid Javid when the former chancellor dramatically resigned earlier this month after a confrontation with No 10. Javid had been labelled in Westminster circles as “chino” – chancellor in name only – while commentators warned that Sunak could become known as “baby chino”, given his rapid rise to become one of the youngest chancellors in history.Sunak is believed to be under pressure from No 10 to relax public borrowing rules set by Javid before the election that force day-to-day spending to be matched with tax receipts by 2023. Investment spending on long-term infrastructure projects must not exceed 3% of GDP.Gauke, who ran as an independent at the election but lost to the Tories in his former seat of South West Hertfordshire, said the government’s plans to raise spending could result in the UK’s national debt rising as a proportion of GDP.Saying this was a “very strange position to find ourselves in”, particularly for a Tory government, he added that there were fundamental constraints for the government and risks that debt could be rising as the economy falters. He warned that Brexit or the coronavirus outbreak could damage growth and the public purse.He said: “If we had a downturn in the economy, are we saying that debt to GDP grows slowly and then grows very quickly, before reverting to growing slowly again? That strikes me as an unsustainable position.”The former Treasury minister, who was second-in-command under Philip Hammond and served under George Osborne, said the department with overarching control over tax and spending decisions needed to be “pretty tight with public spending, and making sure we do prioritise”. He said the alternative would be tax increases, which the Tory party was unwilling to contemplate.In recognition of the bind facing the chancellor, Gauke said the ministry of justice had faced an “essentially unsustainable” funding settlement during his time in charge of the department.Warning that the government’s planned tough approach to prison sentencing would mean higher prisoner numbers in future – requiring more prison officers and greater funding – he said: “Those pressures are going to increase yet further.”']\n"
     ]
    }
   ],
   "source": [
    "articles=[]\n",
    "for i in range(0,2):\n",
    "    articleText=\"\"\n",
    "    file=open('gaurdian'+page+''+str(i)+'.html','r',encoding=\"utf-8\")\n",
    "    readFile=file.read()\n",
    "    html_soup1 = BeautifulSoup(readFile, 'html.parser')\n",
    "    articleBody=html_soup1.find('div',class_=\"content__article-body\").find_all('p')\n",
    "    for p in articleBody:\n",
    "        #print(p.text)\n",
    "        articleText+=p.text\n",
    "    #print(articleText)\n",
    "    articles.append(articleText)\n",
    "print((articles))"
   ]
  },
  {
   "cell_type": "code",
   "execution_count": null,
   "metadata": {},
   "outputs": [],
   "source": [
    "https://www.nytimes.com/2020/02/24/sports/basketball/what-time-is-kobe-memorial.html"
   ]
  }
 ],
 "metadata": {
  "kernelspec": {
   "display_name": "Python 3",
   "language": "python",
   "name": "python3"
  },
  "language_info": {
   "codemirror_mode": {
    "name": "ipython",
    "version": 3
   },
   "file_extension": ".py",
   "mimetype": "text/x-python",
   "name": "python",
   "nbconvert_exporter": "python",
   "pygments_lexer": "ipython3",
   "version": "3.7.4"
  }
 },
 "nbformat": 4,
 "nbformat_minor": 2
}
