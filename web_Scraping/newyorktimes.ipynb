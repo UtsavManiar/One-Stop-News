{
 "cells": [
  {
   "cell_type": "code",
   "execution_count": 1,
   "metadata": {},
   "outputs": [],
   "source": [
    "import requests\n",
    "from bs4 import BeautifulSoup\n",
    "import pandas as pd\n",
    "page='sportts'\n",
    "r = requests.get('https://www.nytimes.com/section/sports')\n",
    "f=open('nyt'+page+'.html','w',encoding=\"utf-8\")\n",
    "f.write(r.text)\n",
    "f.close()"
   ]
  },
  {
   "cell_type": "code",
   "execution_count": 6,
   "metadata": {},
   "outputs": [
    {
     "name": "stdout",
     "output_type": "stream",
     "text": [
      "Can Players’ Bosses Control Cheating in Baseball? ‘It’s Tough’ 3\n"
     ]
    }
   ],
   "source": [
    "file=open('nyt'+page+'.html','r',encoding=\"utf-8\")#gaurdianSport\n",
    "readFile=file.read()\n",
    "html_soup = BeautifulSoup(readFile, 'html.parser')\n",
    "#print(html_soup)\n",
    "mainClasses=html_soup.find_all('h2',class_=\"css-1hdf4fa eb5pyrn3\")#--quoted\")\n",
    "print(mainClasses[2].text,len(mainClasses))"
   ]
  },
  {
   "cell_type": "code",
   "execution_count": 9,
   "metadata": {},
   "outputs": [
    {
     "name": "stdout",
     "output_type": "stream",
     "text": [
      "https://www.nytimes.com/2020/02/24/sports/soccer/fifa-club-world-cup.html FIFA, Seeking $1 Billion for Club World Cup, Hires U.S. Firm to Find It\n",
      "https://www.nytimes.com/2020/02/24/sports/hockey/david-ayres-carolina-emergency-goalie.html What’s It Like to Be an Emergency Goalie in an N.H.L. Game?\n"
     ]
    }
   ],
   "source": [
    "for i in range(0,2):\n",
    "    heading=mainClasses[i].text\n",
    "    linktoarticle=\"https://www.nytimes.com\"+mainClasses[i].find('a',href=True)['href']\n",
    "    print(linktoarticle,heading)\n",
    "    r = requests.get(linktoarticle)\n",
    "    f=open('nyt'+page+''+str(i)+'.html','w',encoding=\"utf-8\")#gaurdianSportart\n",
    "    f.write(r.text)\n",
    "    f.close()"
   ]
  },
  {
   "cell_type": "code",
   "execution_count": 11,
   "metadata": {},
   "outputs": [
    {
     "name": "stdout",
     "output_type": "stream",
     "text": [
      "2\n"
     ]
    }
   ],
   "source": [
    "articles=[]\n",
    "for i in range(0,2):\n",
    "    articleText=\"\"\n",
    "    file=open('nyt'+page+''+str(i)+'.html','r',encoding=\"utf-8\")\n",
    "    readFile=file.read()\n",
    "    html_soup1 = BeautifulSoup(readFile, 'html.parser')\n",
    "    articleBody=html_soup1.find_all('p',class_=\"css-exrw3m evys1bk0\")\n",
    "    for p in articleBody:\n",
    "        #print(p.text)\n",
    "        articleText+=p.text\n",
    "    #print(articleText)\n",
    "    articles.append(articleText)\n",
    "print(len(articles))"
   ]
  },
  {
   "cell_type": "code",
   "execution_count": null,
   "metadata": {},
   "outputs": [],
   "source": []
  }
 ],
 "metadata": {
  "kernelspec": {
   "display_name": "Python 3",
   "language": "python",
   "name": "python3"
  },
  "language_info": {
   "codemirror_mode": {
    "name": "ipython",
    "version": 3
   },
   "file_extension": ".py",
   "mimetype": "text/x-python",
   "name": "python",
   "nbconvert_exporter": "python",
   "pygments_lexer": "ipython3",
   "version": "3.7.4"
  }
 },
 "nbformat": 4,
 "nbformat_minor": 2
}
